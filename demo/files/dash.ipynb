{
 "cells": [
  {
   "cell_type": "code",
   "execution_count": 1,
   "id": "97c494a4-a009-49f3-b7de-312ea1df1a6a",
   "metadata": {},
   "outputs": [],
   "source": [
    "from dash import Dash, Input, Output, callback, dcc, html\n",
    "\n",
    "app = Dash(__name__)\n",
    "md = \"\"\"\n",
    "# Dash demo\n",
    "\n",
    "See [The dash examples index](https://dash-example-index.herokuapp.com/) for more examples.\n",
    "\"\"\"\n",
    "\n",
    "app.layout = html.Div(\n",
    "    children=[\n",
    "        dcc.Markdown(children=md, link_target=\"_blank\"),\n",
    "        dcc.Dropdown(id=\"dropdown\", options=[\"red\", \"green\", \"blue\", \"orange\"]),\n",
    "        dcc.Markdown(id=\"markdown\", children=[\"## Hello World\"]),\n",
    "    ]\n",
    ")\n",
    "\n",
    "\n",
    "@callback(\n",
    "    Output(\"markdown\", \"style\"),\n",
    "    Input(\"dropdown\", \"value\"),\n",
    ")\n",
    "def update_markdown_style(color):\n",
    "    return {\"color\": color}"
   ]
  },
  {
   "cell_type": "code",
   "execution_count": 7,
   "id": "a8edcadd-2153-44fb-8911-10e443d96fd4",
   "metadata": {},
   "outputs": [
    {
     "data": {
      "text/plain": [
       "['/_dash-component-suites/<string:package_name>/<path:fingerprinted_path>',\n",
       " '/_dash-layout',\n",
       " '/_dash-dependencies',\n",
       " '/_dash-update-component',\n",
       " '/_reload-hash',\n",
       " '/_favicon.ico',\n",
       " '/',\n",
       " '/_alive_6d9de63b-052c-4133-8c46-600613df8861',\n",
       " '/<path:path>']"
      ]
     },
     "execution_count": 7,
     "metadata": {},
     "output_type": "execute_result"
    }
   ],
   "source": [
    "app.routes"
   ]
  },
  {
   "cell_type": "code",
   "execution_count": 10,
   "id": "66e9529e-5d11-46eb-b618-fcf2c4115851",
   "metadata": {},
   "outputs": [
    {
     "name": "stdout",
     "output_type": "stream",
     "text": [
      "<!DOCTYPE html>\n",
      "<html>\n",
      "    <head>\n",
      "        <meta http-equiv=\"X-UA-Compatible\" content=\"IE=edge\">\n",
      "      <meta charset=\"UTF-8\">\n",
      "      <meta name=\"viewport\" content=\"width=device-width, initial-scale=1\">\n",
      "        <title>Dash</title>\n",
      "        <link rel=\"icon\" type=\"image/x-icon\" href=\"/_favicon.ico?v=3.2.0\">\n",
      "        \n",
      "    </head>\n",
      "    <body>\n",
      "        <!--[if IE]><script>\n",
      "        alert(\"Dash v2.7+ does not support Internet Explorer. Please use a newer browser.\");\n",
      "        </script><![endif]-->\n",
      "        \n",
      "<div id=\"react-entry-point\">\n",
      "    <div class=\"_dash-loading\">\n",
      "        Loading...\n",
      "    </div>\n",
      "</div>\n",
      "\n",
      "        <footer>\n",
      "            <script id=\"_dash-config\" type=\"application/json\">{\"url_base_pathname\":null,\"requests_pathname_prefix\":\"\\u002f\",\"ui\":false,\"props_check\":false,\"disable_version_check\":false,\"show_undo_redo\":false,\"suppress_callback_exceptions\":false,\"update_title\":\"Updating...\",\"children_props\":{\"dash_core_components\":{\"Checklist\":[\"options[].label\"],\"Clipboard\":[],\"ConfirmDialog\":[],\"ConfirmDialogProvider\":[],\"DatePickerRange\":[],\"DatePickerSingle\":[],\"Download\":[],\"Dropdown\":[\"options[].label\"],\"Geolocation\":[],\"Graph\":[],\"Input\":[],\"Interval\":[],\"Link\":[],\"Loading\":[\"custom_spinner\"],\"Location\":[],\"Markdown\":[],\"RadioItems\":[\"options[].label\"],\"RangeSlider\":[],\"Slider\":[],\"Store\":[],\"Tab\":[],\"Tabs\":[],\"Textarea\":[],\"Tooltip\":[],\"Upload\":[]},\"dash_html_components\":{\"A\":[],\"Abbr\":[],\"Acronym\":[],\"Address\":[],\"Area\":[],\"Article\":[],\"Aside\":[],\"Audio\":[],\"B\":[],\"Base\":[],\"Basefont\":[],\"Bdi\":[],\"Bdo\":[],\"Big\":[],\"Blink\":[],\"Blockquote\":[],\"Br\":[],\"Button\":[],\"Canvas\":[],\"Caption\":[],\"Center\":[],\"Cite\":[],\"Code\":[],\"Col\":[],\"Colgroup\":[],\"Content\":[],\"Data\":[],\"Datalist\":[],\"Dd\":[],\"Del\":[],\"Details\":[],\"Dfn\":[],\"Dialog\":[],\"Div\":[],\"Dl\":[],\"Dt\":[],\"Em\":[],\"Embed\":[],\"Fieldset\":[],\"Figcaption\":[],\"Figure\":[],\"Font\":[],\"Footer\":[],\"Form\":[],\"Frame\":[],\"Frameset\":[],\"H1\":[],\"H2\":[],\"H3\":[],\"H4\":[],\"H5\":[],\"H6\":[],\"Header\":[],\"Hgroup\":[],\"Hr\":[],\"I\":[],\"Iframe\":[],\"Img\":[],\"Ins\":[],\"Kbd\":[],\"Keygen\":[],\"Label\":[],\"Legend\":[],\"Li\":[],\"Link\":[],\"Main\":[],\"MapEl\":[],\"Mark\":[],\"Marquee\":[],\"Meta\":[],\"Meter\":[],\"Nav\":[],\"Nobr\":[],\"Noscript\":[],\"ObjectEl\":[],\"Ol\":[],\"Optgroup\":[],\"Option\":[],\"Output\":[],\"P\":[],\"Param\":[],\"Picture\":[],\"Plaintext\":[],\"Pre\":[],\"Progress\":[],\"Q\":[],\"Rb\":[],\"Rp\":[],\"Rt\":[],\"Rtc\":[],\"Ruby\":[],\"S\":[],\"Samp\":[],\"Script\":[],\"Section\":[],\"Select\":[],\"Shadow\":[],\"Slot\":[],\"Small\":[],\"Source\":[],\"Spacer\":[],\"Span\":[],\"Strike\":[],\"Strong\":[],\"Sub\":[],\"Summary\":[],\"Sup\":[],\"Table\":[],\"Tbody\":[],\"Td\":[],\"Template\":[],\"Textarea\":[],\"Tfoot\":[],\"Th\":[],\"Thead\":[],\"Time\":[],\"Title\":[],\"Tr\":[],\"Track\":[],\"U\":[],\"Ul\":[],\"Var\":[],\"Video\":[],\"Wbr\":[],\"Xmp\":[]},\"dash_table\":{\"DataTable\":[]}},\"serve_locally\":true,\"dash_version\":\"3.2.0\",\"python_version\":\"3.11.13 | packaged by conda-forge | (main, Jun  4 2025, 14:48:23) [GCC 13.3.0]\",\"dash_version_url\":\"https:\\u002f\\u002fdash-version.plotly.com:8080\\u002fcurrent_version\",\"ddk_version\":null,\"plotly_version\":\"6.3.0\"}</script>\n",
      "            <script src=\"/_dash-component-suites/dash/deps/polyfill@7.v3_2_0m1754906532.12.1.min.js\"></script>\n",
      "<script src=\"/_dash-component-suites/dash/deps/react@18.v3_2_0m1754906532.3.1.min.js\"></script>\n",
      "<script src=\"/_dash-component-suites/dash/deps/react-dom@18.v3_2_0m1754906532.3.1.min.js\"></script>\n",
      "<script src=\"/_dash-component-suites/dash/deps/prop-types@15.v3_2_0m1754906532.8.1.min.js\"></script>\n",
      "<script src=\"/_dash-component-suites/dash/dash-renderer/build/dash_renderer.v3_2_0m1754906532.min.js\"></script>\n",
      "<script src=\"/_dash-component-suites/dash/dcc/dash_core_components.v3_2_0m1754906532.js\"></script>\n",
      "<script src=\"/_dash-component-suites/dash/dcc/dash_core_components-shared.v3_2_0m1754906532.js\"></script>\n",
      "<script src=\"/_dash-component-suites/dash/html/dash_html_components.v3_0_4m1754906532.min.js\"></script>\n",
      "<script src=\"/_dash-component-suites/dash/dash_table/bundle.v6_0_4m1754906532.js\"></script>\n",
      "            <script id=\"_dash-renderer\" type=\"application/javascript\">var renderer = new DashRenderer();</script>\n",
      "        </footer>\n",
      "    </body>\n",
      "</html>\n"
     ]
    }
   ],
   "source": [
    "import httpx\n",
    "\n",
    "\n",
    "\n",
    "transport = httpx.WSGITransport(app=app.server)\n",
    "with httpx.Client(transport=transport, base_url=\"http://testserver\") as client:\n",
    "    r = client.get(\"/_dash-update-component\")\n",
    "    assert r.status_code == 200\n",
    "    print(r.text)"
   ]
  },
  {
   "cell_type": "code",
   "execution_count": null,
   "id": "bd7158a4-03a9-4fb5-8ab0-d862f188de59",
   "metadata": {},
   "outputs": [],
   "source": []
  }
 ],
 "metadata": {
  "kernelspec": {
   "display_name": "Python 3 (ipykernel)",
   "language": "python",
   "name": "python3"
  },
  "language_info": {
   "codemirror_mode": {
    "name": "ipython",
    "version": 3
   },
   "file_extension": ".py",
   "mimetype": "text/x-python",
   "name": "python",
   "nbconvert_exporter": "python",
   "pygments_lexer": "ipython3",
   "version": "3.11.13"
  }
 },
 "nbformat": 4,
 "nbformat_minor": 5
}
